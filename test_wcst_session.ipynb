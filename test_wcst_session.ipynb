{
 "cells": [
  {
   "cell_type": "markdown",
   "metadata": {},
   "source": [
    "### Test Notebook for the WCST Engine"
   ]
  },
  {
   "cell_type": "code",
   "execution_count": 18,
   "metadata": {},
   "outputs": [
    {
     "name": "stdout",
     "output_type": "stream",
     "text": [
      "The autoreload extension is already loaded. To reload it, use:\n",
      "  %reload_ext autoreload\n"
     ]
    }
   ],
   "source": [
    "%load_ext autoreload\n",
    "%autoreload 2\n",
    "\n",
    "from wcst_session import WcstSession\n",
    "from block_switching_conditions import short_condition"
   ]
  },
  {
   "cell_type": "code",
   "execution_count": 19,
   "metadata": {},
   "outputs": [],
   "source": [
    "sess = WcstSession(correct_value=10, incorrect_value=-4, block_switching_condition=short_condition, random_seed=42)"
   ]
  },
  {
   "cell_type": "code",
   "execution_count": 20,
   "metadata": {},
   "outputs": [
    {
     "data": {
      "text/plain": [
       "array([['TRIANGLE', 'YELLOW', 'ESCHER'],\n",
       "       ['STAR', 'MAGENTA', 'SWIRL'],\n",
       "       ['SQUARE', 'CYAN', 'RIPPLE'],\n",
       "       ['CIRCLE', 'GREEN', 'POLKADOT']], dtype='<U8')"
      ]
     },
     "execution_count": 20,
     "metadata": {},
     "output_type": "execute_result"
    }
   ],
   "source": [
    "sess.get_cards_text()"
   ]
  },
  {
   "cell_type": "code",
   "execution_count": 21,
   "metadata": {},
   "outputs": [
    {
     "data": {
      "text/plain": [
       "(True, 10)"
      ]
     },
     "execution_count": 21,
     "metadata": {},
     "output_type": "execute_result"
    }
   ],
   "source": [
    "sess.make_selection(2)"
   ]
  },
  {
   "cell_type": "code",
   "execution_count": 22,
   "metadata": {},
   "outputs": [
    {
     "data": {
      "text/plain": [
       "array([['STAR', 'MAGENTA', 'POLKADOT'],\n",
       "       ['TRIANGLE', 'YELLOW', 'ESCHER'],\n",
       "       ['CIRCLE', 'CYAN', 'RIPPLE'],\n",
       "       ['SQUARE', 'GREEN', 'SWIRL']], dtype='<U8')"
      ]
     },
     "execution_count": 22,
     "metadata": {},
     "output_type": "execute_result"
    }
   ],
   "source": [
    "sess.get_cards_text()"
   ]
  },
  {
   "cell_type": "code",
   "execution_count": 23,
   "metadata": {},
   "outputs": [
    {
     "data": {
      "text/plain": [
       "(False, -4)"
      ]
     },
     "execution_count": 23,
     "metadata": {},
     "output_type": "execute_result"
    }
   ],
   "source": [
    "sess.make_selection(2)"
   ]
  },
  {
   "cell_type": "code",
   "execution_count": 24,
   "metadata": {},
   "outputs": [
    {
     "data": {
      "text/plain": [
       "array([['CIRCLE', 'GREEN', 'ESCHER'],\n",
       "       ['STAR', 'CYAN', 'SWIRL'],\n",
       "       ['TRIANGLE', 'MAGENTA', 'RIPPLE'],\n",
       "       ['SQUARE', 'YELLOW', 'POLKADOT']], dtype='<U8')"
      ]
     },
     "execution_count": 24,
     "metadata": {},
     "output_type": "execute_result"
    }
   ],
   "source": [
    "sess.get_cards_text()"
   ]
  },
  {
   "cell_type": "code",
   "execution_count": 25,
   "metadata": {},
   "outputs": [
    {
     "data": {
      "text/plain": [
       "(True, 10)"
      ]
     },
     "execution_count": 25,
     "metadata": {},
     "output_type": "execute_result"
    }
   ],
   "source": [
    "sess.make_selection(3)"
   ]
  },
  {
   "cell_type": "code",
   "execution_count": 26,
   "metadata": {},
   "outputs": [
    {
     "data": {
      "text/plain": [
       "array([['SQUARE', 'CYAN', 'POLKADOT'],\n",
       "       ['CIRCLE', 'GREEN', 'ESCHER'],\n",
       "       ['STAR', 'YELLOW', 'RIPPLE'],\n",
       "       ['TRIANGLE', 'MAGENTA', 'SWIRL']], dtype='<U8')"
      ]
     },
     "execution_count": 26,
     "metadata": {},
     "output_type": "execute_result"
    }
   ],
   "source": [
    "sess.get_cards_text()"
   ]
  },
  {
   "cell_type": "code",
   "execution_count": 27,
   "metadata": {},
   "outputs": [
    {
     "data": {
      "text/plain": [
       "(True, 10)"
      ]
     },
     "execution_count": 27,
     "metadata": {},
     "output_type": "execute_result"
    }
   ],
   "source": [
    "sess.make_selection(0)"
   ]
  },
  {
   "cell_type": "code",
   "execution_count": 28,
   "metadata": {},
   "outputs": [
    {
     "data": {
      "text/plain": [
       "array([['STAR', 'CYAN', 'RIPPLE'],\n",
       "       ['SQUARE', 'GREEN', 'SWIRL'],\n",
       "       ['TRIANGLE', 'MAGENTA', 'ESCHER'],\n",
       "       ['CIRCLE', 'YELLOW', 'POLKADOT']], dtype='<U8')"
      ]
     },
     "execution_count": 28,
     "metadata": {},
     "output_type": "execute_result"
    }
   ],
   "source": [
    "sess.get_cards_text()"
   ]
  },
  {
   "cell_type": "code",
   "execution_count": 29,
   "metadata": {},
   "outputs": [
    {
     "data": {
      "text/plain": [
       "(True, 10)"
      ]
     },
     "execution_count": 29,
     "metadata": {},
     "output_type": "execute_result"
    }
   ],
   "source": [
    "sess.make_selection(1)"
   ]
  },
  {
   "cell_type": "code",
   "execution_count": 30,
   "metadata": {},
   "outputs": [
    {
     "data": {
      "text/plain": [
       "array([['SQUARE', 'CYAN', 'SWIRL'],\n",
       "       ['STAR', 'MAGENTA', 'POLKADOT'],\n",
       "       ['TRIANGLE', 'GREEN', 'RIPPLE'],\n",
       "       ['CIRCLE', 'YELLOW', 'ESCHER']], dtype='<U8')"
      ]
     },
     "execution_count": 30,
     "metadata": {},
     "output_type": "execute_result"
    }
   ],
   "source": [
    "sess.get_cards_text()"
   ]
  },
  {
   "cell_type": "code",
   "execution_count": 31,
   "metadata": {},
   "outputs": [
    {
     "data": {
      "text/plain": [
       "(False, -4)"
      ]
     },
     "execution_count": 31,
     "metadata": {},
     "output_type": "execute_result"
    }
   ],
   "source": [
    "sess.make_selection(0)"
   ]
  },
  {
   "cell_type": "code",
   "execution_count": 32,
   "metadata": {},
   "outputs": [
    {
     "data": {
      "text/html": [
       "<div>\n",
       "<style scoped>\n",
       "    .dataframe tbody tr th:only-of-type {\n",
       "        vertical-align: middle;\n",
       "    }\n",
       "\n",
       "    .dataframe tbody tr th {\n",
       "        vertical-align: top;\n",
       "    }\n",
       "\n",
       "    .dataframe thead th {\n",
       "        text-align: right;\n",
       "    }\n",
       "</style>\n",
       "<table border=\"1\" class=\"dataframe\">\n",
       "  <thead>\n",
       "    <tr style=\"text-align: right;\">\n",
       "      <th></th>\n",
       "      <th>TrialNumber</th>\n",
       "      <th>BlockNumber</th>\n",
       "      <th>TrialAfterRuleChange</th>\n",
       "      <th>Response</th>\n",
       "      <th>ItemChosen</th>\n",
       "      <th>CurrentRule</th>\n",
       "      <th>Reward</th>\n",
       "      <th>Item0Shape</th>\n",
       "      <th>Item0Color</th>\n",
       "      <th>Item0Pattern</th>\n",
       "      <th>Item1Shape</th>\n",
       "      <th>Item1Color</th>\n",
       "      <th>Item1Pattern</th>\n",
       "      <th>Item2Shape</th>\n",
       "      <th>Item2Color</th>\n",
       "      <th>Item2Pattern</th>\n",
       "      <th>Item3Shape</th>\n",
       "      <th>Item3Color</th>\n",
       "      <th>Item3Pattern</th>\n",
       "    </tr>\n",
       "  </thead>\n",
       "  <tbody>\n",
       "    <tr>\n",
       "      <th>0</th>\n",
       "      <td>0</td>\n",
       "      <td>0</td>\n",
       "      <td>0</td>\n",
       "      <td>Correct</td>\n",
       "      <td>2</td>\n",
       "      <td>SQUARE</td>\n",
       "      <td>10</td>\n",
       "      <td>TRIANGLE</td>\n",
       "      <td>YELLOW</td>\n",
       "      <td>ESCHER</td>\n",
       "      <td>STAR</td>\n",
       "      <td>MAGENTA</td>\n",
       "      <td>SWIRL</td>\n",
       "      <td>SQUARE</td>\n",
       "      <td>CYAN</td>\n",
       "      <td>RIPPLE</td>\n",
       "      <td>CIRCLE</td>\n",
       "      <td>GREEN</td>\n",
       "      <td>POLKADOT</td>\n",
       "    </tr>\n",
       "    <tr>\n",
       "      <th>1</th>\n",
       "      <td>1</td>\n",
       "      <td>0</td>\n",
       "      <td>1</td>\n",
       "      <td>Incorrect</td>\n",
       "      <td>2</td>\n",
       "      <td>SQUARE</td>\n",
       "      <td>-4</td>\n",
       "      <td>STAR</td>\n",
       "      <td>MAGENTA</td>\n",
       "      <td>POLKADOT</td>\n",
       "      <td>TRIANGLE</td>\n",
       "      <td>YELLOW</td>\n",
       "      <td>ESCHER</td>\n",
       "      <td>CIRCLE</td>\n",
       "      <td>CYAN</td>\n",
       "      <td>RIPPLE</td>\n",
       "      <td>SQUARE</td>\n",
       "      <td>GREEN</td>\n",
       "      <td>SWIRL</td>\n",
       "    </tr>\n",
       "    <tr>\n",
       "      <th>2</th>\n",
       "      <td>2</td>\n",
       "      <td>0</td>\n",
       "      <td>2</td>\n",
       "      <td>Correct</td>\n",
       "      <td>3</td>\n",
       "      <td>SQUARE</td>\n",
       "      <td>10</td>\n",
       "      <td>CIRCLE</td>\n",
       "      <td>GREEN</td>\n",
       "      <td>ESCHER</td>\n",
       "      <td>STAR</td>\n",
       "      <td>CYAN</td>\n",
       "      <td>SWIRL</td>\n",
       "      <td>TRIANGLE</td>\n",
       "      <td>MAGENTA</td>\n",
       "      <td>RIPPLE</td>\n",
       "      <td>SQUARE</td>\n",
       "      <td>YELLOW</td>\n",
       "      <td>POLKADOT</td>\n",
       "    </tr>\n",
       "    <tr>\n",
       "      <th>3</th>\n",
       "      <td>3</td>\n",
       "      <td>0</td>\n",
       "      <td>3</td>\n",
       "      <td>Correct</td>\n",
       "      <td>0</td>\n",
       "      <td>SQUARE</td>\n",
       "      <td>10</td>\n",
       "      <td>SQUARE</td>\n",
       "      <td>CYAN</td>\n",
       "      <td>POLKADOT</td>\n",
       "      <td>CIRCLE</td>\n",
       "      <td>GREEN</td>\n",
       "      <td>ESCHER</td>\n",
       "      <td>STAR</td>\n",
       "      <td>YELLOW</td>\n",
       "      <td>RIPPLE</td>\n",
       "      <td>TRIANGLE</td>\n",
       "      <td>MAGENTA</td>\n",
       "      <td>SWIRL</td>\n",
       "    </tr>\n",
       "    <tr>\n",
       "      <th>4</th>\n",
       "      <td>4</td>\n",
       "      <td>0</td>\n",
       "      <td>4</td>\n",
       "      <td>Correct</td>\n",
       "      <td>1</td>\n",
       "      <td>SQUARE</td>\n",
       "      <td>10</td>\n",
       "      <td>STAR</td>\n",
       "      <td>CYAN</td>\n",
       "      <td>RIPPLE</td>\n",
       "      <td>SQUARE</td>\n",
       "      <td>GREEN</td>\n",
       "      <td>SWIRL</td>\n",
       "      <td>TRIANGLE</td>\n",
       "      <td>MAGENTA</td>\n",
       "      <td>ESCHER</td>\n",
       "      <td>CIRCLE</td>\n",
       "      <td>YELLOW</td>\n",
       "      <td>POLKADOT</td>\n",
       "    </tr>\n",
       "    <tr>\n",
       "      <th>5</th>\n",
       "      <td>5</td>\n",
       "      <td>1</td>\n",
       "      <td>0</td>\n",
       "      <td>Incorrect</td>\n",
       "      <td>0</td>\n",
       "      <td>POLKADOT</td>\n",
       "      <td>-4</td>\n",
       "      <td>SQUARE</td>\n",
       "      <td>CYAN</td>\n",
       "      <td>SWIRL</td>\n",
       "      <td>STAR</td>\n",
       "      <td>MAGENTA</td>\n",
       "      <td>POLKADOT</td>\n",
       "      <td>TRIANGLE</td>\n",
       "      <td>GREEN</td>\n",
       "      <td>RIPPLE</td>\n",
       "      <td>CIRCLE</td>\n",
       "      <td>YELLOW</td>\n",
       "      <td>ESCHER</td>\n",
       "    </tr>\n",
       "  </tbody>\n",
       "</table>\n",
       "</div>"
      ],
      "text/plain": [
       "   TrialNumber  BlockNumber  TrialAfterRuleChange   Response  ItemChosen  \\\n",
       "0            0            0                     0    Correct           2   \n",
       "1            1            0                     1  Incorrect           2   \n",
       "2            2            0                     2    Correct           3   \n",
       "3            3            0                     3    Correct           0   \n",
       "4            4            0                     4    Correct           1   \n",
       "5            5            1                     0  Incorrect           0   \n",
       "\n",
       "  CurrentRule  Reward Item0Shape Item0Color Item0Pattern Item1Shape  \\\n",
       "0      SQUARE      10   TRIANGLE     YELLOW       ESCHER       STAR   \n",
       "1      SQUARE      -4       STAR    MAGENTA     POLKADOT   TRIANGLE   \n",
       "2      SQUARE      10     CIRCLE      GREEN       ESCHER       STAR   \n",
       "3      SQUARE      10     SQUARE       CYAN     POLKADOT     CIRCLE   \n",
       "4      SQUARE      10       STAR       CYAN       RIPPLE     SQUARE   \n",
       "5    POLKADOT      -4     SQUARE       CYAN        SWIRL       STAR   \n",
       "\n",
       "  Item1Color Item1Pattern Item2Shape Item2Color Item2Pattern Item3Shape  \\\n",
       "0    MAGENTA        SWIRL     SQUARE       CYAN       RIPPLE     CIRCLE   \n",
       "1     YELLOW       ESCHER     CIRCLE       CYAN       RIPPLE     SQUARE   \n",
       "2       CYAN        SWIRL   TRIANGLE    MAGENTA       RIPPLE     SQUARE   \n",
       "3      GREEN       ESCHER       STAR     YELLOW       RIPPLE   TRIANGLE   \n",
       "4      GREEN        SWIRL   TRIANGLE    MAGENTA       ESCHER     CIRCLE   \n",
       "5    MAGENTA     POLKADOT   TRIANGLE      GREEN       RIPPLE     CIRCLE   \n",
       "\n",
       "  Item3Color Item3Pattern  \n",
       "0      GREEN     POLKADOT  \n",
       "1      GREEN        SWIRL  \n",
       "2     YELLOW     POLKADOT  \n",
       "3    MAGENTA        SWIRL  \n",
       "4     YELLOW     POLKADOT  \n",
       "5     YELLOW       ESCHER  "
      ]
     },
     "execution_count": 32,
     "metadata": {},
     "output_type": "execute_result"
    }
   ],
   "source": [
    "sess.dump_history()"
   ]
  },
  {
   "cell_type": "code",
   "execution_count": 33,
   "metadata": {},
   "outputs": [
    {
     "data": {
      "text/plain": [
       "32"
      ]
     },
     "execution_count": 33,
     "metadata": {},
     "output_type": "execute_result"
    }
   ],
   "source": [
    "sess.total_rewards"
   ]
  },
  {
   "cell_type": "code",
   "execution_count": 34,
   "metadata": {},
   "outputs": [
    {
     "data": {
      "text/plain": [
       "'POLKADOT'"
      ]
     },
     "execution_count": 34,
     "metadata": {},
     "output_type": "execute_result"
    }
   ],
   "source": [
    "sess.get_current_rule_text()"
   ]
  },
  {
   "cell_type": "code",
   "execution_count": 35,
   "metadata": {},
   "outputs": [],
   "source": [
    "sess.start_new_session()"
   ]
  },
  {
   "cell_type": "code",
   "execution_count": 36,
   "metadata": {},
   "outputs": [
    {
     "data": {
      "text/plain": [
       "0"
      ]
     },
     "execution_count": 36,
     "metadata": {},
     "output_type": "execute_result"
    }
   ],
   "source": [
    "sess.total_rewards"
   ]
  },
  {
   "cell_type": "code",
   "execution_count": 38,
   "metadata": {},
   "outputs": [
    {
     "data": {
      "text/html": [
       "<div>\n",
       "<style scoped>\n",
       "    .dataframe tbody tr th:only-of-type {\n",
       "        vertical-align: middle;\n",
       "    }\n",
       "\n",
       "    .dataframe tbody tr th {\n",
       "        vertical-align: top;\n",
       "    }\n",
       "\n",
       "    .dataframe thead th {\n",
       "        text-align: right;\n",
       "    }\n",
       "</style>\n",
       "<table border=\"1\" class=\"dataframe\">\n",
       "  <thead>\n",
       "    <tr style=\"text-align: right;\">\n",
       "      <th></th>\n",
       "    </tr>\n",
       "  </thead>\n",
       "  <tbody>\n",
       "  </tbody>\n",
       "</table>\n",
       "</div>"
      ],
      "text/plain": [
       "Empty DataFrame\n",
       "Columns: []\n",
       "Index: []"
      ]
     },
     "execution_count": 38,
     "metadata": {},
     "output_type": "execute_result"
    }
   ],
   "source": [
    "sess.dump_history()"
   ]
  },
  {
   "cell_type": "code",
   "execution_count": null,
   "metadata": {},
   "outputs": [],
   "source": []
  }
 ],
 "metadata": {
  "kernelspec": {
   "display_name": "Python 3.8.10 64-bit",
   "language": "python",
   "name": "python3"
  },
  "language_info": {
   "codemirror_mode": {
    "name": "ipython",
    "version": 3
   },
   "file_extension": ".py",
   "mimetype": "text/x-python",
   "name": "python",
   "nbconvert_exporter": "python",
   "pygments_lexer": "ipython3",
   "version": "3.8.10"
  },
  "orig_nbformat": 4,
  "vscode": {
   "interpreter": {
    "hash": "31f2aee4e71d21fbe5cf8b01ff0e069b9275f58929596ceb00d14d90e3e16cd6"
   }
  }
 },
 "nbformat": 4,
 "nbformat_minor": 2
}
