{
 "cells": [
  {
   "attachments": {},
   "cell_type": "markdown",
   "metadata": {},
   "source": [
    "### Test Notebook for the WCST Engine"
   ]
  },
  {
   "cell_type": "code",
   "execution_count": 1,
   "metadata": {},
   "outputs": [],
   "source": [
    "%load_ext autoreload\n",
    "%autoreload 2\n",
    "\n",
    "import numpy as np\n",
    "\n",
    "from wcst_session import WcstSession\n",
    "from block_switching_conditions import short_condition, create_bernoulli_condition\n",
    "from card_generators import RandomCardGenerator\n",
    "from rule_generators import RandomRuleGeneratorHuman\n"
   ]
  },
  {
   "cell_type": "code",
   "execution_count": 3,
   "metadata": {},
   "outputs": [],
   "source": [
    "sess = WcstSession(correct_value=10, incorrect_value=-4, block_switching_condition=short_condition, random_seed=42)"
   ]
  },
  {
   "cell_type": "code",
   "execution_count": 4,
   "metadata": {},
   "outputs": [
    {
     "data": {
      "text/plain": [
       "array([['TRIANGLE', 'YELLOW', 'ESCHER'],\n",
       "       ['STAR', 'MAGENTA', 'SWIRL'],\n",
       "       ['SQUARE', 'CYAN', 'RIPPLE'],\n",
       "       ['CIRCLE', 'GREEN', 'POLKADOT']], dtype='<U8')"
      ]
     },
     "execution_count": 4,
     "metadata": {},
     "output_type": "execute_result"
    }
   ],
   "source": [
    "sess.get_cards_text()"
   ]
  },
  {
   "cell_type": "code",
   "execution_count": 5,
   "metadata": {},
   "outputs": [
    {
     "data": {
      "text/plain": [
       "(False, -4)"
      ]
     },
     "execution_count": 5,
     "metadata": {},
     "output_type": "execute_result"
    }
   ],
   "source": [
    "sess.make_selection(2)"
   ]
  },
  {
   "cell_type": "code",
   "execution_count": 6,
   "metadata": {},
   "outputs": [
    {
     "data": {
      "text/plain": [
       "array([['STAR', 'MAGENTA', 'POLKADOT'],\n",
       "       ['TRIANGLE', 'YELLOW', 'ESCHER'],\n",
       "       ['CIRCLE', 'CYAN', 'RIPPLE'],\n",
       "       ['SQUARE', 'GREEN', 'SWIRL']], dtype='<U8')"
      ]
     },
     "execution_count": 6,
     "metadata": {},
     "output_type": "execute_result"
    }
   ],
   "source": [
    "sess.get_cards_text()"
   ]
  },
  {
   "cell_type": "code",
   "execution_count": 7,
   "metadata": {},
   "outputs": [
    {
     "data": {
      "text/plain": [
       "(False, -4)"
      ]
     },
     "execution_count": 7,
     "metadata": {},
     "output_type": "execute_result"
    }
   ],
   "source": [
    "sess.make_selection(2)"
   ]
  },
  {
   "cell_type": "code",
   "execution_count": 8,
   "metadata": {},
   "outputs": [
    {
     "data": {
      "text/plain": [
       "array([['CIRCLE', 'GREEN', 'ESCHER'],\n",
       "       ['STAR', 'CYAN', 'SWIRL'],\n",
       "       ['TRIANGLE', 'MAGENTA', 'RIPPLE'],\n",
       "       ['SQUARE', 'YELLOW', 'POLKADOT']], dtype='<U8')"
      ]
     },
     "execution_count": 8,
     "metadata": {},
     "output_type": "execute_result"
    }
   ],
   "source": [
    "sess.get_cards_text()"
   ]
  },
  {
   "cell_type": "code",
   "execution_count": 9,
   "metadata": {},
   "outputs": [
    {
     "data": {
      "text/plain": [
       "(True, 10)"
      ]
     },
     "execution_count": 9,
     "metadata": {},
     "output_type": "execute_result"
    }
   ],
   "source": [
    "sess.make_selection(3)"
   ]
  },
  {
   "cell_type": "code",
   "execution_count": 10,
   "metadata": {},
   "outputs": [
    {
     "data": {
      "text/plain": [
       "array([['SQUARE', 'CYAN', 'POLKADOT'],\n",
       "       ['CIRCLE', 'GREEN', 'ESCHER'],\n",
       "       ['STAR', 'YELLOW', 'RIPPLE'],\n",
       "       ['TRIANGLE', 'MAGENTA', 'SWIRL']], dtype='<U8')"
      ]
     },
     "execution_count": 10,
     "metadata": {},
     "output_type": "execute_result"
    }
   ],
   "source": [
    "sess.get_cards_text()"
   ]
  },
  {
   "cell_type": "code",
   "execution_count": 11,
   "metadata": {},
   "outputs": [
    {
     "data": {
      "text/plain": [
       "(True, 10)"
      ]
     },
     "execution_count": 11,
     "metadata": {},
     "output_type": "execute_result"
    }
   ],
   "source": [
    "sess.make_selection(0)"
   ]
  },
  {
   "cell_type": "code",
   "execution_count": 12,
   "metadata": {},
   "outputs": [
    {
     "data": {
      "text/plain": [
       "array([['STAR', 'CYAN', 'RIPPLE'],\n",
       "       ['SQUARE', 'GREEN', 'SWIRL'],\n",
       "       ['TRIANGLE', 'MAGENTA', 'ESCHER'],\n",
       "       ['CIRCLE', 'YELLOW', 'POLKADOT']], dtype='<U8')"
      ]
     },
     "execution_count": 12,
     "metadata": {},
     "output_type": "execute_result"
    }
   ],
   "source": [
    "sess.get_cards_text()"
   ]
  },
  {
   "cell_type": "code",
   "execution_count": 13,
   "metadata": {},
   "outputs": [
    {
     "data": {
      "text/plain": [
       "(False, -4)"
      ]
     },
     "execution_count": 13,
     "metadata": {},
     "output_type": "execute_result"
    }
   ],
   "source": [
    "sess.make_selection(1)"
   ]
  },
  {
   "cell_type": "code",
   "execution_count": 14,
   "metadata": {},
   "outputs": [
    {
     "data": {
      "text/plain": [
       "array([['SQUARE', 'CYAN', 'SWIRL'],\n",
       "       ['STAR', 'MAGENTA', 'POLKADOT'],\n",
       "       ['TRIANGLE', 'GREEN', 'RIPPLE'],\n",
       "       ['CIRCLE', 'YELLOW', 'ESCHER']], dtype='<U8')"
      ]
     },
     "execution_count": 14,
     "metadata": {},
     "output_type": "execute_result"
    }
   ],
   "source": [
    "sess.get_cards_text()"
   ]
  },
  {
   "cell_type": "code",
   "execution_count": 15,
   "metadata": {},
   "outputs": [
    {
     "data": {
      "text/plain": [
       "(False, -4)"
      ]
     },
     "execution_count": 15,
     "metadata": {},
     "output_type": "execute_result"
    }
   ],
   "source": [
    "sess.make_selection(0)"
   ]
  },
  {
   "cell_type": "code",
   "execution_count": 16,
   "metadata": {},
   "outputs": [
    {
     "data": {
      "text/html": [
       "<div>\n",
       "<style scoped>\n",
       "    .dataframe tbody tr th:only-of-type {\n",
       "        vertical-align: middle;\n",
       "    }\n",
       "\n",
       "    .dataframe tbody tr th {\n",
       "        vertical-align: top;\n",
       "    }\n",
       "\n",
       "    .dataframe thead th {\n",
       "        text-align: right;\n",
       "    }\n",
       "</style>\n",
       "<table border=\"1\" class=\"dataframe\">\n",
       "  <thead>\n",
       "    <tr style=\"text-align: right;\">\n",
       "      <th></th>\n",
       "      <th>TrialNumber</th>\n",
       "      <th>BlockNumber</th>\n",
       "      <th>TrialAfterRuleChange</th>\n",
       "      <th>Response</th>\n",
       "      <th>ItemChosen</th>\n",
       "      <th>CurrentRule</th>\n",
       "      <th>Reward</th>\n",
       "      <th>Item0Shape</th>\n",
       "      <th>Item0Color</th>\n",
       "      <th>Item0Pattern</th>\n",
       "      <th>Item1Shape</th>\n",
       "      <th>Item1Color</th>\n",
       "      <th>Item1Pattern</th>\n",
       "      <th>Item2Shape</th>\n",
       "      <th>Item2Color</th>\n",
       "      <th>Item2Pattern</th>\n",
       "      <th>Item3Shape</th>\n",
       "      <th>Item3Color</th>\n",
       "      <th>Item3Pattern</th>\n",
       "    </tr>\n",
       "  </thead>\n",
       "  <tbody>\n",
       "    <tr>\n",
       "      <th>0</th>\n",
       "      <td>0</td>\n",
       "      <td>0</td>\n",
       "      <td>0</td>\n",
       "      <td>Incorrect</td>\n",
       "      <td>2</td>\n",
       "      <td>POLKADOT</td>\n",
       "      <td>-4</td>\n",
       "      <td>TRIANGLE</td>\n",
       "      <td>YELLOW</td>\n",
       "      <td>ESCHER</td>\n",
       "      <td>STAR</td>\n",
       "      <td>MAGENTA</td>\n",
       "      <td>SWIRL</td>\n",
       "      <td>SQUARE</td>\n",
       "      <td>CYAN</td>\n",
       "      <td>RIPPLE</td>\n",
       "      <td>CIRCLE</td>\n",
       "      <td>GREEN</td>\n",
       "      <td>POLKADOT</td>\n",
       "    </tr>\n",
       "    <tr>\n",
       "      <th>1</th>\n",
       "      <td>1</td>\n",
       "      <td>0</td>\n",
       "      <td>1</td>\n",
       "      <td>Incorrect</td>\n",
       "      <td>2</td>\n",
       "      <td>POLKADOT</td>\n",
       "      <td>-4</td>\n",
       "      <td>STAR</td>\n",
       "      <td>MAGENTA</td>\n",
       "      <td>POLKADOT</td>\n",
       "      <td>TRIANGLE</td>\n",
       "      <td>YELLOW</td>\n",
       "      <td>ESCHER</td>\n",
       "      <td>CIRCLE</td>\n",
       "      <td>CYAN</td>\n",
       "      <td>RIPPLE</td>\n",
       "      <td>SQUARE</td>\n",
       "      <td>GREEN</td>\n",
       "      <td>SWIRL</td>\n",
       "    </tr>\n",
       "    <tr>\n",
       "      <th>2</th>\n",
       "      <td>2</td>\n",
       "      <td>0</td>\n",
       "      <td>2</td>\n",
       "      <td>Correct</td>\n",
       "      <td>3</td>\n",
       "      <td>POLKADOT</td>\n",
       "      <td>10</td>\n",
       "      <td>CIRCLE</td>\n",
       "      <td>GREEN</td>\n",
       "      <td>ESCHER</td>\n",
       "      <td>STAR</td>\n",
       "      <td>CYAN</td>\n",
       "      <td>SWIRL</td>\n",
       "      <td>TRIANGLE</td>\n",
       "      <td>MAGENTA</td>\n",
       "      <td>RIPPLE</td>\n",
       "      <td>SQUARE</td>\n",
       "      <td>YELLOW</td>\n",
       "      <td>POLKADOT</td>\n",
       "    </tr>\n",
       "    <tr>\n",
       "      <th>3</th>\n",
       "      <td>3</td>\n",
       "      <td>0</td>\n",
       "      <td>3</td>\n",
       "      <td>Correct</td>\n",
       "      <td>0</td>\n",
       "      <td>POLKADOT</td>\n",
       "      <td>10</td>\n",
       "      <td>SQUARE</td>\n",
       "      <td>CYAN</td>\n",
       "      <td>POLKADOT</td>\n",
       "      <td>CIRCLE</td>\n",
       "      <td>GREEN</td>\n",
       "      <td>ESCHER</td>\n",
       "      <td>STAR</td>\n",
       "      <td>YELLOW</td>\n",
       "      <td>RIPPLE</td>\n",
       "      <td>TRIANGLE</td>\n",
       "      <td>MAGENTA</td>\n",
       "      <td>SWIRL</td>\n",
       "    </tr>\n",
       "    <tr>\n",
       "      <th>4</th>\n",
       "      <td>4</td>\n",
       "      <td>0</td>\n",
       "      <td>4</td>\n",
       "      <td>Incorrect</td>\n",
       "      <td>1</td>\n",
       "      <td>POLKADOT</td>\n",
       "      <td>-4</td>\n",
       "      <td>STAR</td>\n",
       "      <td>CYAN</td>\n",
       "      <td>RIPPLE</td>\n",
       "      <td>SQUARE</td>\n",
       "      <td>GREEN</td>\n",
       "      <td>SWIRL</td>\n",
       "      <td>TRIANGLE</td>\n",
       "      <td>MAGENTA</td>\n",
       "      <td>ESCHER</td>\n",
       "      <td>CIRCLE</td>\n",
       "      <td>YELLOW</td>\n",
       "      <td>POLKADOT</td>\n",
       "    </tr>\n",
       "    <tr>\n",
       "      <th>5</th>\n",
       "      <td>5</td>\n",
       "      <td>0</td>\n",
       "      <td>5</td>\n",
       "      <td>Incorrect</td>\n",
       "      <td>0</td>\n",
       "      <td>POLKADOT</td>\n",
       "      <td>-4</td>\n",
       "      <td>SQUARE</td>\n",
       "      <td>CYAN</td>\n",
       "      <td>SWIRL</td>\n",
       "      <td>STAR</td>\n",
       "      <td>MAGENTA</td>\n",
       "      <td>POLKADOT</td>\n",
       "      <td>TRIANGLE</td>\n",
       "      <td>GREEN</td>\n",
       "      <td>RIPPLE</td>\n",
       "      <td>CIRCLE</td>\n",
       "      <td>YELLOW</td>\n",
       "      <td>ESCHER</td>\n",
       "    </tr>\n",
       "  </tbody>\n",
       "</table>\n",
       "</div>"
      ],
      "text/plain": [
       "   TrialNumber  BlockNumber  TrialAfterRuleChange   Response  ItemChosen  \\\n",
       "0            0            0                     0  Incorrect           2   \n",
       "1            1            0                     1  Incorrect           2   \n",
       "2            2            0                     2    Correct           3   \n",
       "3            3            0                     3    Correct           0   \n",
       "4            4            0                     4  Incorrect           1   \n",
       "5            5            0                     5  Incorrect           0   \n",
       "\n",
       "  CurrentRule  Reward Item0Shape Item0Color Item0Pattern Item1Shape  \\\n",
       "0    POLKADOT      -4   TRIANGLE     YELLOW       ESCHER       STAR   \n",
       "1    POLKADOT      -4       STAR    MAGENTA     POLKADOT   TRIANGLE   \n",
       "2    POLKADOT      10     CIRCLE      GREEN       ESCHER       STAR   \n",
       "3    POLKADOT      10     SQUARE       CYAN     POLKADOT     CIRCLE   \n",
       "4    POLKADOT      -4       STAR       CYAN       RIPPLE     SQUARE   \n",
       "5    POLKADOT      -4     SQUARE       CYAN        SWIRL       STAR   \n",
       "\n",
       "  Item1Color Item1Pattern Item2Shape Item2Color Item2Pattern Item3Shape  \\\n",
       "0    MAGENTA        SWIRL     SQUARE       CYAN       RIPPLE     CIRCLE   \n",
       "1     YELLOW       ESCHER     CIRCLE       CYAN       RIPPLE     SQUARE   \n",
       "2       CYAN        SWIRL   TRIANGLE    MAGENTA       RIPPLE     SQUARE   \n",
       "3      GREEN       ESCHER       STAR     YELLOW       RIPPLE   TRIANGLE   \n",
       "4      GREEN        SWIRL   TRIANGLE    MAGENTA       ESCHER     CIRCLE   \n",
       "5    MAGENTA     POLKADOT   TRIANGLE      GREEN       RIPPLE     CIRCLE   \n",
       "\n",
       "  Item3Color Item3Pattern  \n",
       "0      GREEN     POLKADOT  \n",
       "1      GREEN        SWIRL  \n",
       "2     YELLOW     POLKADOT  \n",
       "3    MAGENTA        SWIRL  \n",
       "4     YELLOW     POLKADOT  \n",
       "5     YELLOW       ESCHER  "
      ]
     },
     "execution_count": 16,
     "metadata": {},
     "output_type": "execute_result"
    }
   ],
   "source": [
    "sess.dump_history()"
   ]
  },
  {
   "attachments": {},
   "cell_type": "markdown",
   "metadata": {},
   "source": [
    "### Test WcstSession with only 2 cards, 1 feature dimension"
   ]
  },
  {
   "cell_type": "code",
   "execution_count": 17,
   "metadata": {},
   "outputs": [],
   "source": [
    "sess = WcstSession(\n",
    "    correct_value=10, \n",
    "    incorrect_value=-4, \n",
    "    block_switching_condition=short_condition, \n",
    "    card_generator=RandomCardGenerator(42, 2, 1),\n",
    "    rule_generator=RandomRuleGeneratorHuman(42, 2, 1),\n",
    "    feature_names=np.array([\"RED\", \"BLUE\"]),\n",
    "    dim_names=[\"Color\"],\n",
    "    random_seed=42\n",
    ")"
   ]
  },
  {
   "cell_type": "code",
   "execution_count": 18,
   "metadata": {},
   "outputs": [
    {
     "data": {
      "text/plain": [
       "array([['BLUE'],\n",
       "       ['RED']], dtype='<U4')"
      ]
     },
     "execution_count": 18,
     "metadata": {},
     "output_type": "execute_result"
    }
   ],
   "source": [
    "sess.get_cards_text()"
   ]
  },
  {
   "cell_type": "code",
   "execution_count": 19,
   "metadata": {},
   "outputs": [
    {
     "data": {
      "text/plain": [
       "(True, 10)"
      ]
     },
     "execution_count": 19,
     "metadata": {},
     "output_type": "execute_result"
    }
   ],
   "source": [
    "sess.make_selection(0)"
   ]
  },
  {
   "cell_type": "code",
   "execution_count": 20,
   "metadata": {},
   "outputs": [
    {
     "data": {
      "text/plain": [
       "array([['RED'],\n",
       "       ['BLUE']], dtype='<U4')"
      ]
     },
     "execution_count": 20,
     "metadata": {},
     "output_type": "execute_result"
    }
   ],
   "source": [
    "sess.get_cards_text()"
   ]
  },
  {
   "cell_type": "code",
   "execution_count": 21,
   "metadata": {},
   "outputs": [
    {
     "data": {
      "text/plain": [
       "(True, 10)"
      ]
     },
     "execution_count": 21,
     "metadata": {},
     "output_type": "execute_result"
    }
   ],
   "source": [
    "sess.make_selection(1)"
   ]
  },
  {
   "cell_type": "code",
   "execution_count": 22,
   "metadata": {},
   "outputs": [
    {
     "data": {
      "text/plain": [
       "array([['RED'],\n",
       "       ['BLUE']], dtype='<U4')"
      ]
     },
     "execution_count": 22,
     "metadata": {},
     "output_type": "execute_result"
    }
   ],
   "source": [
    "sess.get_cards_text()"
   ]
  },
  {
   "cell_type": "code",
   "execution_count": 23,
   "metadata": {},
   "outputs": [
    {
     "data": {
      "text/plain": [
       "(False, -4)"
      ]
     },
     "execution_count": 23,
     "metadata": {},
     "output_type": "execute_result"
    }
   ],
   "source": [
    "sess.make_selection(0)"
   ]
  },
  {
   "cell_type": "markdown",
   "metadata": {},
   "source": [
    "### Test WCST with probabilistic reward"
   ]
  },
  {
   "cell_type": "code",
   "execution_count": 24,
   "metadata": {},
   "outputs": [],
   "source": [
    "sess = WcstSession(\n",
    "    correct_value=10, \n",
    "    incorrect_value=-4, \n",
    "    prob_reward_matches=0.5,\n",
    "    block_switching_condition=short_condition, \n",
    "    card_generator=RandomCardGenerator(42, 2, 1),\n",
    "    rule_generator=RandomRuleGeneratorHuman(42, 2, 1),\n",
    "    feature_names=np.array([\"RED\", \"BLUE\"]),\n",
    "    dim_names=[\"Color\"],\n",
    "    random_seed=42\n",
    ")"
   ]
  },
  {
   "cell_type": "code",
   "execution_count": 25,
   "metadata": {},
   "outputs": [
    {
     "data": {
      "text/plain": [
       "array([['BLUE'],\n",
       "       ['RED']], dtype='<U4')"
      ]
     },
     "execution_count": 25,
     "metadata": {},
     "output_type": "execute_result"
    }
   ],
   "source": [
    "sess.get_cards_text()"
   ]
  },
  {
   "cell_type": "code",
   "execution_count": 26,
   "metadata": {},
   "outputs": [
    {
     "data": {
      "text/plain": [
       "(True, -4)"
      ]
     },
     "execution_count": 26,
     "metadata": {},
     "output_type": "execute_result"
    }
   ],
   "source": [
    "sess.make_selection(0)"
   ]
  },
  {
   "cell_type": "code",
   "execution_count": 28,
   "metadata": {},
   "outputs": [
    {
     "data": {
      "text/plain": [
       "array([['RED'],\n",
       "       ['BLUE']], dtype='<U4')"
      ]
     },
     "execution_count": 28,
     "metadata": {},
     "output_type": "execute_result"
    }
   ],
   "source": [
    "sess.get_cards_text()"
   ]
  },
  {
   "cell_type": "code",
   "execution_count": 29,
   "metadata": {},
   "outputs": [
    {
     "data": {
      "text/plain": [
       "(True, 10)"
      ]
     },
     "execution_count": 29,
     "metadata": {},
     "output_type": "execute_result"
    }
   ],
   "source": [
    "sess.make_selection(1)"
   ]
  },
  {
   "cell_type": "code",
   "execution_count": 30,
   "metadata": {},
   "outputs": [
    {
     "data": {
      "text/plain": [
       "array([['RED'],\n",
       "       ['BLUE']], dtype='<U4')"
      ]
     },
     "execution_count": 30,
     "metadata": {},
     "output_type": "execute_result"
    }
   ],
   "source": [
    "sess.get_cards_text()"
   ]
  },
  {
   "cell_type": "code",
   "execution_count": 31,
   "metadata": {},
   "outputs": [
    {
     "data": {
      "text/plain": [
       "(False, -4)"
      ]
     },
     "execution_count": 31,
     "metadata": {},
     "output_type": "execute_result"
    }
   ],
   "source": [
    "sess.make_selection(0)"
   ]
  },
  {
   "cell_type": "code",
   "execution_count": 32,
   "metadata": {},
   "outputs": [
    {
     "data": {
      "text/plain": [
       "array([['RED'],\n",
       "       ['BLUE']], dtype='<U4')"
      ]
     },
     "execution_count": 32,
     "metadata": {},
     "output_type": "execute_result"
    }
   ],
   "source": [
    "sess.get_cards_text()"
   ]
  },
  {
   "cell_type": "code",
   "execution_count": 33,
   "metadata": {},
   "outputs": [
    {
     "data": {
      "text/plain": [
       "(False, -4)"
      ]
     },
     "execution_count": 33,
     "metadata": {},
     "output_type": "execute_result"
    }
   ],
   "source": [
    "sess.make_selection(0)"
   ]
  },
  {
   "cell_type": "code",
   "execution_count": 34,
   "metadata": {},
   "outputs": [
    {
     "data": {
      "text/plain": [
       "array([['BLUE'],\n",
       "       ['RED']], dtype='<U4')"
      ]
     },
     "execution_count": 34,
     "metadata": {},
     "output_type": "execute_result"
    }
   ],
   "source": [
    "sess.get_cards_text()"
   ]
  },
  {
   "cell_type": "code",
   "execution_count": 35,
   "metadata": {},
   "outputs": [
    {
     "data": {
      "text/plain": [
       "(False, 10)"
      ]
     },
     "execution_count": 35,
     "metadata": {},
     "output_type": "execute_result"
    }
   ],
   "source": [
    "sess.make_selection(1)"
   ]
  },
  {
   "cell_type": "code",
   "execution_count": 36,
   "metadata": {},
   "outputs": [
    {
     "data": {
      "text/html": [
       "<div>\n",
       "<style scoped>\n",
       "    .dataframe tbody tr th:only-of-type {\n",
       "        vertical-align: middle;\n",
       "    }\n",
       "\n",
       "    .dataframe tbody tr th {\n",
       "        vertical-align: top;\n",
       "    }\n",
       "\n",
       "    .dataframe thead th {\n",
       "        text-align: right;\n",
       "    }\n",
       "</style>\n",
       "<table border=\"1\" class=\"dataframe\">\n",
       "  <thead>\n",
       "    <tr style=\"text-align: right;\">\n",
       "      <th></th>\n",
       "      <th>TrialNumber</th>\n",
       "      <th>BlockNumber</th>\n",
       "      <th>TrialAfterRuleChange</th>\n",
       "      <th>Response</th>\n",
       "      <th>ItemChosen</th>\n",
       "      <th>CurrentRule</th>\n",
       "      <th>Reward</th>\n",
       "      <th>Item0Color</th>\n",
       "      <th>Item1Color</th>\n",
       "    </tr>\n",
       "  </thead>\n",
       "  <tbody>\n",
       "    <tr>\n",
       "      <th>0</th>\n",
       "      <td>0</td>\n",
       "      <td>0</td>\n",
       "      <td>0</td>\n",
       "      <td>Correct</td>\n",
       "      <td>0</td>\n",
       "      <td>BLUE</td>\n",
       "      <td>-4</td>\n",
       "      <td>BLUE</td>\n",
       "      <td>RED</td>\n",
       "    </tr>\n",
       "    <tr>\n",
       "      <th>1</th>\n",
       "      <td>1</td>\n",
       "      <td>0</td>\n",
       "      <td>1</td>\n",
       "      <td>Correct</td>\n",
       "      <td>1</td>\n",
       "      <td>BLUE</td>\n",
       "      <td>10</td>\n",
       "      <td>RED</td>\n",
       "      <td>BLUE</td>\n",
       "    </tr>\n",
       "    <tr>\n",
       "      <th>2</th>\n",
       "      <td>2</td>\n",
       "      <td>0</td>\n",
       "      <td>2</td>\n",
       "      <td>Incorrect</td>\n",
       "      <td>0</td>\n",
       "      <td>BLUE</td>\n",
       "      <td>-4</td>\n",
       "      <td>RED</td>\n",
       "      <td>BLUE</td>\n",
       "    </tr>\n",
       "    <tr>\n",
       "      <th>3</th>\n",
       "      <td>3</td>\n",
       "      <td>0</td>\n",
       "      <td>3</td>\n",
       "      <td>Incorrect</td>\n",
       "      <td>0</td>\n",
       "      <td>BLUE</td>\n",
       "      <td>-4</td>\n",
       "      <td>RED</td>\n",
       "      <td>BLUE</td>\n",
       "    </tr>\n",
       "    <tr>\n",
       "      <th>4</th>\n",
       "      <td>4</td>\n",
       "      <td>0</td>\n",
       "      <td>4</td>\n",
       "      <td>Incorrect</td>\n",
       "      <td>1</td>\n",
       "      <td>BLUE</td>\n",
       "      <td>10</td>\n",
       "      <td>BLUE</td>\n",
       "      <td>RED</td>\n",
       "    </tr>\n",
       "  </tbody>\n",
       "</table>\n",
       "</div>"
      ],
      "text/plain": [
       "   TrialNumber  BlockNumber  TrialAfterRuleChange   Response  ItemChosen  \\\n",
       "0            0            0                     0    Correct           0   \n",
       "1            1            0                     1    Correct           1   \n",
       "2            2            0                     2  Incorrect           0   \n",
       "3            3            0                     3  Incorrect           0   \n",
       "4            4            0                     4  Incorrect           1   \n",
       "\n",
       "  CurrentRule  Reward Item0Color Item1Color  \n",
       "0        BLUE      -4       BLUE        RED  \n",
       "1        BLUE      10        RED       BLUE  \n",
       "2        BLUE      -4        RED       BLUE  \n",
       "3        BLUE      -4        RED       BLUE  \n",
       "4        BLUE      10       BLUE        RED  "
      ]
     },
     "execution_count": 36,
     "metadata": {},
     "output_type": "execute_result"
    }
   ],
   "source": [
    "sess.dump_history()"
   ]
  },
  {
   "cell_type": "markdown",
   "metadata": {},
   "source": [
    "### Test with probabilistic block switch"
   ]
  },
  {
   "cell_type": "code",
   "execution_count": 12,
   "metadata": {},
   "outputs": [],
   "source": [
    "sess = WcstSession(\n",
    "    correct_value=10, \n",
    "    incorrect_value=-4, \n",
    "    block_switching_condition=create_bernoulli_condition(0.2), \n",
    ")"
   ]
  },
  {
   "cell_type": "code",
   "execution_count": 13,
   "metadata": {},
   "outputs": [
    {
     "data": {
      "text/plain": [
       "array([['TRIANGLE', 'YELLOW', 'POLKADOT'],\n",
       "       ['STAR', 'GREEN', 'ESCHER'],\n",
       "       ['CIRCLE', 'CYAN', 'SWIRL'],\n",
       "       ['SQUARE', 'MAGENTA', 'RIPPLE']], dtype='<U8')"
      ]
     },
     "execution_count": 13,
     "metadata": {},
     "output_type": "execute_result"
    }
   ],
   "source": [
    "sess.get_cards_text()"
   ]
  },
  {
   "cell_type": "code",
   "execution_count": 14,
   "metadata": {},
   "outputs": [
    {
     "data": {
      "text/plain": [
       "(False, -4)"
      ]
     },
     "execution_count": 14,
     "metadata": {},
     "output_type": "execute_result"
    }
   ],
   "source": [
    "sess.make_selection(0)"
   ]
  },
  {
   "cell_type": "code",
   "execution_count": 15,
   "metadata": {},
   "outputs": [
    {
     "data": {
      "text/plain": [
       "1"
      ]
     },
     "execution_count": 15,
     "metadata": {},
     "output_type": "execute_result"
    }
   ],
   "source": [
    "sess.current_block"
   ]
  },
  {
   "cell_type": "code",
   "execution_count": 16,
   "metadata": {},
   "outputs": [
    {
     "data": {
      "text/plain": [
       "array([['STAR', 'MAGENTA', 'ESCHER'],\n",
       "       ['TRIANGLE', 'GREEN', 'SWIRL'],\n",
       "       ['CIRCLE', 'YELLOW', 'RIPPLE'],\n",
       "       ['SQUARE', 'CYAN', 'POLKADOT']], dtype='<U8')"
      ]
     },
     "execution_count": 16,
     "metadata": {},
     "output_type": "execute_result"
    }
   ],
   "source": [
    "sess.get_cards_text()"
   ]
  },
  {
   "cell_type": "code",
   "execution_count": 17,
   "metadata": {},
   "outputs": [
    {
     "data": {
      "text/plain": [
       "(False, -4)"
      ]
     },
     "execution_count": 17,
     "metadata": {},
     "output_type": "execute_result"
    }
   ],
   "source": [
    "sess.make_selection(0)"
   ]
  },
  {
   "cell_type": "code",
   "execution_count": 18,
   "metadata": {},
   "outputs": [
    {
     "data": {
      "text/plain": [
       "1"
      ]
     },
     "execution_count": 18,
     "metadata": {},
     "output_type": "execute_result"
    }
   ],
   "source": [
    "sess.current_block"
   ]
  },
  {
   "cell_type": "code",
   "execution_count": 19,
   "metadata": {},
   "outputs": [
    {
     "data": {
      "text/plain": [
       "array([['SQUARE', 'MAGENTA', 'POLKADOT'],\n",
       "       ['STAR', 'GREEN', 'RIPPLE'],\n",
       "       ['CIRCLE', 'YELLOW', 'SWIRL'],\n",
       "       ['TRIANGLE', 'CYAN', 'ESCHER']], dtype='<U8')"
      ]
     },
     "execution_count": 19,
     "metadata": {},
     "output_type": "execute_result"
    }
   ],
   "source": [
    "sess.get_cards_text()"
   ]
  },
  {
   "cell_type": "code",
   "execution_count": 20,
   "metadata": {},
   "outputs": [
    {
     "data": {
      "text/plain": [
       "(True, 10)"
      ]
     },
     "execution_count": 20,
     "metadata": {},
     "output_type": "execute_result"
    }
   ],
   "source": [
    "sess.make_selection(0)"
   ]
  },
  {
   "cell_type": "code",
   "execution_count": 21,
   "metadata": {},
   "outputs": [
    {
     "data": {
      "text/plain": [
       "2"
      ]
     },
     "execution_count": 21,
     "metadata": {},
     "output_type": "execute_result"
    }
   ],
   "source": [
    "sess.current_block"
   ]
  },
  {
   "cell_type": "code",
   "execution_count": null,
   "metadata": {},
   "outputs": [],
   "source": []
  }
 ],
 "metadata": {
  "kernelspec": {
   "display_name": "Python 3.8.10 64-bit",
   "language": "python",
   "name": "python3"
  },
  "language_info": {
   "codemirror_mode": {
    "name": "ipython",
    "version": 3
   },
   "file_extension": ".py",
   "mimetype": "text/x-python",
   "name": "python",
   "nbconvert_exporter": "python",
   "pygments_lexer": "ipython3",
   "version": "3.10.6"
  },
  "orig_nbformat": 4,
  "vscode": {
   "interpreter": {
    "hash": "31f2aee4e71d21fbe5cf8b01ff0e069b9275f58929596ceb00d14d90e3e16cd6"
   }
  }
 },
 "nbformat": 4,
 "nbformat_minor": 2
}
